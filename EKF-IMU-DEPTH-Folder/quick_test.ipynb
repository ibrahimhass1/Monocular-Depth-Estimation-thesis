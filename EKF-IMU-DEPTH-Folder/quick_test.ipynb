{
 "cells": [
  {
   "cell_type": "code",
   "execution_count": 5,
   "metadata": {},
   "outputs": [],
   "source": [
    "import os\n",
    "\n",
    "def list_subfolder_folders(root_path):\n",
    "    all_folders = []\n",
    "    # Loop through the subfolders in the root folder\n",
    "    for subfolder in os.scandir(root_path):\n",
    "        if subfolder.is_dir():\n",
    "            # List all directories within each subfolder\n",
    "            subfolder_folders = [f.name for f in os.scandir(subfolder.path) if f.is_dir()]\n",
    "            all_folders.extend(subfolder_folders)\n",
    "    return all_folders\n",
    "\n",
    "# Example usage:\n",
    "root_folder_path = 'kitti_rest'  # Replace with your root folder path\n",
    "folders = list_subfolder_folders(root_folder_path)\n",
    "\n",
    "# Write folder names to train.txt\n",
    "with open('train.txt', 'w') as file:\n",
    "    for folder in folders:\n",
    "        file.write(f\"{folder}\\n\")\n"
   ]
  },
  {
   "cell_type": "code",
   "execution_count": 6,
   "metadata": {},
   "outputs": [
    {
     "data": {
      "text/plain": [
       "['2011_09_26_drive_0096_extract',\n",
       " '2011_09_26_drive_0113_extract',\n",
       " '2011_09_26_drive_0101_extract',\n",
       " '2011_09_26_drive_0104_extract',\n",
       " '2011_09_26_drive_0106_extract',\n",
       " '2011_09_26_drive_0117_extract',\n",
       " '2011_09_28_drive_0001_extract',\n",
       " '2011_09_28_drive_0002_extract',\n",
       " '2011_09_29_drive_0004_extract',\n",
       " '2011_09_29_drive_0071_extract',\n",
       " '2011_09_29_drive_0026_extract']"
      ]
     },
     "execution_count": 6,
     "metadata": {},
     "output_type": "execute_result"
    }
   ],
   "source": [
    "folders"
   ]
  },
  {
   "cell_type": "code",
   "execution_count": 2,
   "metadata": {},
   "outputs": [
    {
     "data": {
      "text/plain": [
       "'kitti_rest'"
      ]
     },
     "execution_count": 2,
     "metadata": {},
     "output_type": "execute_result"
    }
   ],
   "source": [
    "root_folder"
   ]
  }
 ],
 "metadata": {
  "kernelspec": {
   "display_name": "env_new_full",
   "language": "python",
   "name": "python3"
  },
  "language_info": {
   "codemirror_mode": {
    "name": "ipython",
    "version": 3
   },
   "file_extension": ".py",
   "mimetype": "text/x-python",
   "name": "python",
   "nbconvert_exporter": "python",
   "pygments_lexer": "ipython3",
   "version": "3.10.14"
  }
 },
 "nbformat": 4,
 "nbformat_minor": 2
}
